{
  "cells": [
    {
      "cell_type": "markdown",
      "id": "c48854cd",
      "metadata": {},
      "source": [
        "# Exercise 2: Title of the Notebook\n",
        "## Data Science Tools and Ecosystem"
      ]
    },
    {
      "cell_type": "markdown",
      "metadata": {},
      "source": [
        "# Exercise 3: Introduction\n",
        "In this notebook, we will summarize some of the popular languages, libraries, and tools used in Data Science, as well as demonstrate a few basic arithmetic operations in Python."
      ]
    },
    {
      "cell_type": "markdown",
      "metadata": {},
      "source": [
        "# Exercise 4: List Data Science Languages\n",
        "Some popular languages that Data Scientists use include:\n",
        "- Python\n",
        "- R\n",
        "- SQL\n",
        "- Java\n",
        "- Scala"
      ]
    },
    {
      "cell_type": "markdown",
      "metadata": {},
      "source": [
        "# Exercise 5: List Data Science Libraries\n",
        "Commonly used libraries by Data Scientists include:\n",
        "- Pandas\n",
        "- NumPy\n",
        "- Matplotlib\n",
        "- Scikit-learn\n",
        "- TensorFlow\n",
        "- PyTorch"
      ]
    },
    {
      "cell_type": "markdown",
      "metadata": {},
      "source": [
        "# Exercise 6: Table of Data Science Tools\n",
        "| Data Science Tool     | Description                                   |\n",
        "|-----------------------|-----------------------------------------------|\n",
        "| Jupyter Notebook      | A web-based environment for interactive coding|\n",
        "| RStudio              | An IDE for R programming                      |\n",
        "| Apache Zeppelin       | A web-based notebook that supports multiple languages|"
      ]
    },
    {
      "cell_type": "markdown",
      "metadata": {},
      "source": [
        "# Exercise 7: Arithmetic Expression Examples\n",
        "Below are a few examples of evaluating arithmetic expressions in Python:\n",
        "1. Addition: `3 + 2 = 5`\n",
        "2. Multiplication: `4 * 5 = 20`\n",
        "3. Combined Expressions: `4 * (5 + 3) = 32`"
      ]
    },
    {
      "cell_type": "code",
      "execution_count": 1,
      "metadata": {},
      "outputs": [
        {
          "data": {
            "text/plain": [
              "30"
            ]
          },
          "execution_count": 1,
          "metadata": {},
          "output_type": "execute_result"
        }
      ],
      "source": [
        "# Exercise 8: Multiply and Add Numbers\n",
        "# This cell will multiply and then add numbers\n",
        "multiplication_result = 4 * 5\n",
        "sum_result = multiplication_result + 10\n",
        "sum_result"
      ]
    },
    {
      "cell_type": "code",
      "execution_count": 2,
      "metadata": {},
      "outputs": [
        {
          "data": {
            "text/plain": [
              "3.3333333333333335"
            ]
          },
          "execution_count": 2,
          "metadata": {},
          "output_type": "execute_result"
        }
      ],
      "source": [
        "# Exercise 9: Convert Minutes to Hours\n",
        "# This cell converts 200 minutes to hours\n",
        "minutes = 200\n",
        "hours = minutes / 60\n",
        "hours"
      ]
    },
    {
      "cell_type": "markdown",
      "metadata": {},
      "source": [
        "# Exercise 10: List Objectives\n",
        "In this notebook, we aimed to:\n",
        "1. Introduce popular languages for Data Science\n",
        "2. List commonly used libraries and tools for Data Science\n",
        "3. Demonstrate simple arithmetic expressions in Python\n",
        "4. Provide a quick overview of Markdown formatting"
      ]
    },
    {
      "cell_type": "markdown",
      "metadata": {},
      "source": [
        "# Exercise 11: Author's Name\n",
        "**Author:** TIENEN HSIA"
      ]
    },
    {
      "cell_type": "markdown",
      "metadata": {},
      "source": [
        "# Exercise 12: Share Your Notebook Through GitHub\n",
        "1. Create a new GitHub repository (or use an existing one).\n",
        "2. Upload this `.ipynb` file to the repository.\n",
        "3. Ensure the repository is public.\n",
        "4. Copy the public link and include it in your submission."
      ]
    },
    {
      "cell_type": "markdown",
      "metadata": {},
      "source": [
        "# Exercise 13: Take a Screenshot of the First Page\n",
        "Open this notebook in Jupyter, take a screenshot of the first page (showing the title and some content), and upload it according to the assignment instructions."
      ]
    }
  ],
  "metadata": {
    "kernelspec": {
      "display_name": "py312",
      "language": "python",
      "name": "python3"
    },
    "language_info": {
      "codemirror_mode": {
        "name": "ipython",
        "version": 3
      },
      "file_extension": ".py",
      "mimetype": "text/x-python",
      "name": "python",
      "nbconvert_exporter": "python",
      "pygments_lexer": "ipython3",
      "version": "3.12.8"
    }
  },
  "nbformat": 4,
  "nbformat_minor": 5
}
